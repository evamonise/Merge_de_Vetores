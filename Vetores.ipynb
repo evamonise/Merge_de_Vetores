{
  "nbformat": 4,
  "nbformat_minor": 0,
  "metadata": {
    "colab": {
      "provenance": [],
      "authorship_tag": "ABX9TyM5+RwmnR176os7N22KVrLU",
      "include_colab_link": true
    },
    "kernelspec": {
      "name": "python3",
      "display_name": "Python 3"
    },
    "language_info": {
      "name": "python"
    }
  },
  "cells": [
    {
      "cell_type": "markdown",
      "metadata": {
        "id": "view-in-github",
        "colab_type": "text"
      },
      "source": [
        "<a href=\"https://colab.research.google.com/github/evamonise/Merge_de_Vetores/blob/main/Vetores.ipynb\" target=\"_parent\"><img src=\"https://colab.research.google.com/assets/colab-badge.svg\" alt=\"Open In Colab\"/></a>"
      ]
    },
    {
      "cell_type": "code",
      "execution_count": null,
      "metadata": {
        "colab": {
          "base_uri": "https://localhost:8080/"
        },
        "id": "8O4AtexF_8Fy",
        "outputId": "c1214227-37ab-4abd-eed7-0236cd3896da"
      },
      "outputs": [
        {
          "output_type": "stream",
          "name": "stdout",
          "text": [
            "resultado [1, 2, 3, 4, 5, 6, 7, 8, 9, 10]\n"
          ]
        }
      ],
      "source": [
        "vetor1 = [1,3,5,7,9]\n",
        "vetor2 = [2,4,6,8,10]\n",
        "\n",
        "def marge_vetores (vetor1,vetor2):\n",
        "    resultado = []\n",
        "    tamanho = min(len(vetor1), len(vetor2))\n",
        "\n",
        "    for i in range(tamanho):\n",
        "      resultado.append(vetor1[i])\n",
        "      resultado.append(vetor2[i])\n",
        "\n",
        "    if len(vetor1) > len(vetor2):\n",
        "      resultado.extend(vetor1[tamanho:])\n",
        "    else:\n",
        "      resultado.extend(vetor2[tamanho:])\n",
        "      return resultado\n",
        "\n",
        "resultado = marge_vetores(vetor1, vetor2)\n",
        "print(\"resultado\",resultado)"
      ]
    }
  ]
}